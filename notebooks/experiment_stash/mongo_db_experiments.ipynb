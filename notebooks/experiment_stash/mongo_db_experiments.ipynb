{
 "cells": [
  {
   "cell_type": "code",
   "execution_count": 26,
   "metadata": {},
   "outputs": [
    {
     "name": "stdout",
     "output_type": "stream",
     "text": [
      "One post: 5f23f7692a8a9b6b1d271e15\n",
      "Multiple posts: [ObjectId('5f23f7692a8a9b6b1d271e16'), ObjectId('5f23f7692a8a9b6b1d271e17'), ObjectId('5f23f7692a8a9b6b1d271e18')]\n",
      "{'_id': ObjectId('5f15b8402a8a9b02d859d58d'), 'title': 'Learning Python', 'content': 'Learn Python, it is easy', 'author': 'Bill'}\n"
     ]
    }
   ],
   "source": [
    "from pymongo import MongoClient\n",
    "client = MongoClient()\n",
    "\n",
    "client = MongoClient('mongodb://localhost:27017')\n",
    "\n",
    "\n",
    "db = client['pymongo_test']\n",
    "\n",
    "\n",
    "posts = db.posts\n",
    "post_data = {\n",
    "    'title': 'Python and MongoDB',\n",
    "    'content': 'PyMongo is fun, you guys',\n",
    "    'author': 'Scott'\n",
    "}\n",
    "result = posts.insert_one(post_data)\n",
    "print('One post: {0}'.format(result.inserted_id))\n",
    "\n",
    "post_1 = {\n",
    "    'title': 'Python and MongoDB',\n",
    "    'content': 'PyMongo is fun, you guys',\n",
    "    'author': 'Scott'\n",
    "}\n",
    "post_2 = {\n",
    "    'title': 'Virtual Environments',\n",
    "    'content': 'Use virtual environments, you guys',\n",
    "    'author': 'Scott'\n",
    "}\n",
    "post_3 = {\n",
    "    'title': 'Learning Python',\n",
    "    'content': 'Learn Python, it is easy',\n",
    "    'author': 'Bill'\n",
    "}\n",
    "new_result = posts.insert_many([post_1, post_2, post_3])\n",
    "print('Multiple posts: {0}'.format(new_result.inserted_ids))\n",
    "\n",
    "bills_post = posts.find_one({'author': 'Bill'})\n",
    "print(bills_post)"
   ]
  },
  {
   "cell_type": "code",
   "execution_count": 11,
   "metadata": {},
   "outputs": [
    {
     "ename": "SyntaxError",
     "evalue": "invalid syntax (<ipython-input-11-d2809cc6b058>, line 4)",
     "output_type": "error",
     "traceback": [
      "\u001b[0;36m  File \u001b[0;32m\"<ipython-input-11-d2809cc6b058>\"\u001b[0;36m, line \u001b[0;32m4\u001b[0m\n\u001b[0;31m    function(err,docs) {\u001b[0m\n\u001b[0m                       ^\u001b[0m\n\u001b[0;31mSyntaxError\u001b[0m\u001b[0;31m:\u001b[0m invalid syntax\n"
     ]
    }
   ],
   "source": [
    "# posts.find(\n",
    "#     { \"_id\": { \"$nin\": lastSeenIds }, \"other\": { \"$gte\": lastSeenValue } },\n",
    "#     { \"limit\": 5, \"sort\": { \"other\": 1, \"_id\": 1 }  },\n",
    "#     function(err,docs) {\n",
    "#        docs.forEach(function(doc) {\n",
    "#            // do something\n",
    "#            if ( lastSeenValue != doc.other ) {  // clear on change\n",
    "#                lastSeenValue = doc.other;\n",
    "#                lastSeenIds = [];\n",
    "#            }\n",
    "#            lastSeenIds.push(doc._id);     // keep a list\n",
    "#        });\n",
    "#     }\n",
    "# );"
   ]
  },
  {
   "cell_type": "code",
   "execution_count": 18,
   "metadata": {},
   "outputs": [
    {
     "name": "stderr",
     "output_type": "stream",
     "text": [
      "/home/hustle/miniconda3/envs/tp/lib/python3.6/site-packages/ipykernel_launcher.py:26: DeprecationWarning: insert is deprecated. Use insert_one or insert_many instead.\n"
     ]
    }
   ],
   "source": [
    "import csv\n",
    "import json\n",
    "import pandas as pd\n",
    "import sys, getopt, pprint\n",
    "from pymongo import MongoClient\n",
    "#CSV to JSON Conversion\n",
    "csvfile = open('/home/hustle/playground/twitter_thought_leader/data/raw/rel_user_info.csv', 'r')\n",
    "reader = csv.DictReader( csvfile )\n",
    "client = MongoClient()\n",
    "\n",
    "client = MongoClient('mongodb://localhost:27017')\n",
    "\n",
    "\n",
    "db = client['pymongo_test']\n",
    "\n",
    "db.user_info.drop()\n",
    "header= ['id', 'name', 'username', 'bio', 'location', 'url', 'join_date',\n",
    "       'join_time', 'tweets', 'following', 'followers', 'likes', 'media',\n",
    "       'private', 'verified', 'profile_image_url', 'background_image']\n",
    "\n",
    "for each in reader:\n",
    "    row={}\n",
    "    for field in header:\n",
    "        row[field]=each[field]\n",
    "\n",
    "    db.user_info.insert(row)"
   ]
  },
  {
   "cell_type": "code",
   "execution_count": 19,
   "metadata": {},
   "outputs": [],
   "source": [
    "df = pd.read_csv(\"/home/hustle/playground/twitter_thought_leader/data/raw/rel_user_info.csv\")"
   ]
  },
  {
   "cell_type": "code",
   "execution_count": 20,
   "metadata": {},
   "outputs": [
    {
     "data": {
      "text/html": [
       "<div>\n",
       "<style scoped>\n",
       "    .dataframe tbody tr th:only-of-type {\n",
       "        vertical-align: middle;\n",
       "    }\n",
       "\n",
       "    .dataframe tbody tr th {\n",
       "        vertical-align: top;\n",
       "    }\n",
       "\n",
       "    .dataframe thead th {\n",
       "        text-align: right;\n",
       "    }\n",
       "</style>\n",
       "<table border=\"1\" class=\"dataframe\">\n",
       "  <thead>\n",
       "    <tr style=\"text-align: right;\">\n",
       "      <th></th>\n",
       "      <th>id</th>\n",
       "      <th>name</th>\n",
       "      <th>username</th>\n",
       "      <th>bio</th>\n",
       "      <th>location</th>\n",
       "      <th>url</th>\n",
       "      <th>join_date</th>\n",
       "      <th>join_time</th>\n",
       "      <th>tweets</th>\n",
       "      <th>following</th>\n",
       "      <th>followers</th>\n",
       "      <th>likes</th>\n",
       "      <th>media</th>\n",
       "      <th>private</th>\n",
       "      <th>verified</th>\n",
       "      <th>profile_image_url</th>\n",
       "      <th>background_image</th>\n",
       "    </tr>\n",
       "  </thead>\n",
       "  <tbody>\n",
       "    <tr>\n",
       "      <th>0</th>\n",
       "      <td>1236113082201456640</td>\n",
       "      <td>The Radical AI Podcast</td>\n",
       "      <td>RadicalAIPod</td>\n",
       "      <td>AI Ethics Podcast centering marginalized or ot...</td>\n",
       "      <td>Denver, Colorado</td>\n",
       "      <td>http://radicalai.org</td>\n",
       "      <td>6 Mar 2020</td>\n",
       "      <td>6:15 PM</td>\n",
       "      <td>433.0</td>\n",
       "      <td>893.0</td>\n",
       "      <td>2199.0</td>\n",
       "      <td>438.0</td>\n",
       "      <td>28.0</td>\n",
       "      <td>0.0</td>\n",
       "      <td>0.0</td>\n",
       "      <td>https://pbs.twimg.com/profile_images/126493501...</td>\n",
       "      <td>https://pbs.twimg.com/profile_banners/12361130...</td>\n",
       "    </tr>\n",
       "    <tr>\n",
       "      <th>1</th>\n",
       "      <td>2595244026</td>\n",
       "      <td>Eliezer Yudkowsky</td>\n",
       "      <td>ESYudkowsky</td>\n",
       "      <td>Ours is the era of inadequate AI alignment the...</td>\n",
       "      <td>NaN</td>\n",
       "      <td>NaN</td>\n",
       "      <td>29 Jun 2014</td>\n",
       "      <td>1:14 PM</td>\n",
       "      <td>6195.0</td>\n",
       "      <td>64.0</td>\n",
       "      <td>35929.0</td>\n",
       "      <td>3476.0</td>\n",
       "      <td>38.0</td>\n",
       "      <td>0.0</td>\n",
       "      <td>1.0</td>\n",
       "      <td>https://pbs.twimg.com/profile_images/706642709...</td>\n",
       "      <td>https://pbs.twimg.com/profile_banners/25952440...</td>\n",
       "    </tr>\n",
       "    <tr>\n",
       "      <th>2</th>\n",
       "      <td>543919023</td>\n",
       "      <td>Martha White</td>\n",
       "      <td>white_martha</td>\n",
       "      <td>PhD Comp Sci student at the University of Albe...</td>\n",
       "      <td>Edmonton, Canada</td>\n",
       "      <td>http://www.marthawhite.ca</td>\n",
       "      <td>2 Apr 2012</td>\n",
       "      <td>5:13 PM</td>\n",
       "      <td>6.0</td>\n",
       "      <td>52.0</td>\n",
       "      <td>688.0</td>\n",
       "      <td>0.0</td>\n",
       "      <td>0.0</td>\n",
       "      <td>0.0</td>\n",
       "      <td>0.0</td>\n",
       "      <td>https://pbs.twimg.com/profile_images/329413704...</td>\n",
       "      <td>NaN</td>\n",
       "    </tr>\n",
       "    <tr>\n",
       "      <th>3</th>\n",
       "      <td>26394719</td>\n",
       "      <td>Rapha Gontijo Lopes 🌹 🏴 @ 🏠</td>\n",
       "      <td>iraphas13</td>\n",
       "      <td>Research Associate @ Google Brain. Founder @Qu...</td>\n",
       "      <td>San Francisco, CA</td>\n",
       "      <td>http://raphagl.com</td>\n",
       "      <td>24 Mar 2009</td>\n",
       "      <td>6:44 PM</td>\n",
       "      <td>8002.0</td>\n",
       "      <td>982.0</td>\n",
       "      <td>1849.0</td>\n",
       "      <td>10799.0</td>\n",
       "      <td>341.0</td>\n",
       "      <td>0.0</td>\n",
       "      <td>0.0</td>\n",
       "      <td>https://pbs.twimg.com/profile_images/125011953...</td>\n",
       "      <td>https://pbs.twimg.com/profile_banners/26394719...</td>\n",
       "    </tr>\n",
       "    <tr>\n",
       "      <th>4</th>\n",
       "      <td>161399566</td>\n",
       "      <td>Charles Onu</td>\n",
       "      <td>onucharlesc</td>\n",
       "      <td>PhD student @MilaMontreal &amp; @McGillU • AI Rese...</td>\n",
       "      <td>NaN</td>\n",
       "      <td>http://onucharles.github.io/</td>\n",
       "      <td>30 Jun 2010</td>\n",
       "      <td>12:10 PM</td>\n",
       "      <td>298.0</td>\n",
       "      <td>198.0</td>\n",
       "      <td>864.0</td>\n",
       "      <td>427.0</td>\n",
       "      <td>11.0</td>\n",
       "      <td>0.0</td>\n",
       "      <td>0.0</td>\n",
       "      <td>https://pbs.twimg.com/profile_images/557841503...</td>\n",
       "      <td>https://pbs.twimg.com/profile_banners/16139956...</td>\n",
       "    </tr>\n",
       "  </tbody>\n",
       "</table>\n",
       "</div>"
      ],
      "text/plain": [
       "                    id                         name      username  \\\n",
       "0  1236113082201456640       The Radical AI Podcast  RadicalAIPod   \n",
       "1           2595244026            Eliezer Yudkowsky   ESYudkowsky   \n",
       "2            543919023                 Martha White  white_martha   \n",
       "3             26394719  Rapha Gontijo Lopes 🌹 🏴 @ 🏠     iraphas13   \n",
       "4            161399566                  Charles Onu   onucharlesc   \n",
       "\n",
       "                                                 bio           location  \\\n",
       "0  AI Ethics Podcast centering marginalized or ot...   Denver, Colorado   \n",
       "1  Ours is the era of inadequate AI alignment the...                NaN   \n",
       "2  PhD Comp Sci student at the University of Albe...   Edmonton, Canada   \n",
       "3  Research Associate @ Google Brain. Founder @Qu...  San Francisco, CA   \n",
       "4  PhD student @MilaMontreal & @McGillU • AI Rese...                NaN   \n",
       "\n",
       "                            url    join_date join_time  tweets  following  \\\n",
       "0          http://radicalai.org   6 Mar 2020   6:15 PM   433.0      893.0   \n",
       "1                           NaN  29 Jun 2014   1:14 PM  6195.0       64.0   \n",
       "2     http://www.marthawhite.ca   2 Apr 2012   5:13 PM     6.0       52.0   \n",
       "3            http://raphagl.com  24 Mar 2009   6:44 PM  8002.0      982.0   \n",
       "4  http://onucharles.github.io/  30 Jun 2010  12:10 PM   298.0      198.0   \n",
       "\n",
       "   followers    likes  media  private  verified  \\\n",
       "0     2199.0    438.0   28.0      0.0       0.0   \n",
       "1    35929.0   3476.0   38.0      0.0       1.0   \n",
       "2      688.0      0.0    0.0      0.0       0.0   \n",
       "3     1849.0  10799.0  341.0      0.0       0.0   \n",
       "4      864.0    427.0   11.0      0.0       0.0   \n",
       "\n",
       "                                   profile_image_url  \\\n",
       "0  https://pbs.twimg.com/profile_images/126493501...   \n",
       "1  https://pbs.twimg.com/profile_images/706642709...   \n",
       "2  https://pbs.twimg.com/profile_images/329413704...   \n",
       "3  https://pbs.twimg.com/profile_images/125011953...   \n",
       "4  https://pbs.twimg.com/profile_images/557841503...   \n",
       "\n",
       "                                    background_image  \n",
       "0  https://pbs.twimg.com/profile_banners/12361130...  \n",
       "1  https://pbs.twimg.com/profile_banners/25952440...  \n",
       "2                                                NaN  \n",
       "3  https://pbs.twimg.com/profile_banners/26394719...  \n",
       "4  https://pbs.twimg.com/profile_banners/16139956...  "
      ]
     },
     "execution_count": 20,
     "metadata": {},
     "output_type": "execute_result"
    }
   ],
   "source": [
    "df.head()"
   ]
  },
  {
   "cell_type": "code",
   "execution_count": 29,
   "metadata": {},
   "outputs": [
    {
     "name": "stdout",
     "output_type": "stream",
     "text": [
      "{'_id': ObjectId('5f23f1ae2a8a9b6b1d270724'), 'id': '81235913', 'name': 'Brian Hanley', 'username': 'BrianHanley1', 'bio': '#DeepLearning #IoT #BigData #NeuroTech #AR #VideoStreaming #CloudComputing #SmartCities #Genomics', 'location': 'Santa Monica, CA', 'url': 'https://twitter.com/bigfastdata', 'join_date': '9 Oct 2009', 'join_time': '5:04 PM', 'tweets': '23477.0', 'following': '8262.0', 'followers': '24494.0', 'likes': '771.0', 'media': '1540.0', 'private': '0.0', 'verified': '0.0', 'profile_image_url': 'https://pbs.twimg.com/profile_images/911737023630794752/nJjnuHsg_400x400.jpg', 'background_image': 'https://pbs.twimg.com/profile_banners/81235913/1500435774/1500x500', 'keywords': ['ai', 'intelligence', 's', 'artificial', 'learning', 'data', 'via', 'machine', 'marketing', 'new', 'artificial intelligence', 'machine learning', 'deep learning', 'big data', 'elon musk', 'data science', 'internet things', 'ad tech', 'digital marketing', 'it s', 'ai machine learning', 'future artificial intelligence', 'digital marketing trends', 'artificial intelligence startups', 'artificial intelligence ai', 'ways machine learning', 'brain computer interface', 'guide artificial intelligence', 'artificial intelligence machine', 'intelligence machine learning']}\n"
     ]
    }
   ],
   "source": [
    "bills_post = db.user_info.find_one({'username': 'BrianHanley1'})\n",
    "print(bills_post)"
   ]
  },
  {
   "cell_type": "code",
   "execution_count": 15,
   "metadata": {},
   "outputs": [
    {
     "data": {
      "text/plain": [
       "{'_id': ObjectId('5f22fd112a8a9b6b1d26d6dc'),\n",
       " 'id': '2595244026',\n",
       " 'name': 'Eliezer Yudkowsky',\n",
       " 'username': 'ESYudkowsky',\n",
       " 'bio': 'Ours is the era of inadequate AI alignment theory. Any other facts about this era are relatively unimportant, but sometimes I tweet about them anyway.',\n",
       " 'location': '',\n",
       " 'url': '',\n",
       " 'join_date': '29 Jun 2014',\n",
       " 'join_time': '1:14 PM',\n",
       " 'tweets': '6195.0',\n",
       " 'following': '64.0',\n",
       " 'followers': '35929.0',\n",
       " 'likes': '3476.0',\n",
       " 'media': '38.0',\n",
       " 'private': '0.0',\n",
       " 'verified': '1.0',\n",
       " 'profile_image_url': 'https://pbs.twimg.com/profile_images/706642709511966721/4cRlD__0_400x400.jpg',\n",
       " 'background_image': 'https://pbs.twimg.com/profile_banners/2595244026/1527705951/1500x500'}"
      ]
     },
     "execution_count": 15,
     "metadata": {},
     "output_type": "execute_result"
    }
   ],
   "source": [
    "db.user_info.find_one_and_update( {'username': ''},{ '$set': {'keywords': [1,2,3,4]}})"
   ]
  },
  {
   "cell_type": "code",
   "execution_count": null,
   "metadata": {},
   "outputs": [],
   "source": []
  }
 ],
 "metadata": {
  "kernelspec": {
   "display_name": "Python [conda env:tp] *",
   "language": "python",
   "name": "conda-env-tp-py"
  },
  "language_info": {
   "codemirror_mode": {
    "name": "ipython",
    "version": 3
   },
   "file_extension": ".py",
   "mimetype": "text/x-python",
   "name": "python",
   "nbconvert_exporter": "python",
   "pygments_lexer": "ipython3",
   "version": "3.6.10"
  }
 },
 "nbformat": 4,
 "nbformat_minor": 4
}
